{
 "cells": [
  {
   "cell_type": "code",
   "execution_count": 2,
   "id": "c833e2ba",
   "metadata": {},
   "outputs": [
    {
     "name": "stdout",
     "output_type": "stream",
     "text": [
      "Map saved as weather_map.html\n",
      "Map saved as weather_map.html\n"
     ]
    },
    {
     "ename": "KeyboardInterrupt",
     "evalue": "",
     "output_type": "error",
     "traceback": [
      "\u001b[1;31m---------------------------------------------------------------------------\u001b[0m",
      "\u001b[1;31mKeyboardInterrupt\u001b[0m                         Traceback (most recent call last)",
      "\u001b[1;32m~\\AppData\\Local\\Temp\\ipykernel_9620\\109598386.py\u001b[0m in \u001b[0;36m<module>\u001b[1;34m\u001b[0m\n\u001b[0;32m     63\u001b[0m \u001b[1;33m\u001b[0m\u001b[0m\n\u001b[0;32m     64\u001b[0m \u001b[1;32mif\u001b[0m \u001b[0m__name__\u001b[0m \u001b[1;33m==\u001b[0m \u001b[1;34m\"__main__\"\u001b[0m\u001b[1;33m:\u001b[0m\u001b[1;33m\u001b[0m\u001b[1;33m\u001b[0m\u001b[0m\n\u001b[1;32m---> 65\u001b[1;33m     \u001b[0mmain\u001b[0m\u001b[1;33m(\u001b[0m\u001b[1;33m)\u001b[0m\u001b[1;33m\u001b[0m\u001b[1;33m\u001b[0m\u001b[0m\n\u001b[0m\u001b[0;32m     66\u001b[0m \u001b[1;31m###works but outputs a new tab everytime\u001b[0m\u001b[1;33m\u001b[0m\u001b[1;33m\u001b[0m\u001b[0m\n",
      "\u001b[1;32m~\\AppData\\Local\\Temp\\ipykernel_9620\\109598386.py\u001b[0m in \u001b[0;36mmain\u001b[1;34m()\u001b[0m\n\u001b[0;32m     60\u001b[0m         \u001b[0mprint\u001b[0m\u001b[1;33m(\u001b[0m\u001b[1;34m\"Map saved as weather_map.html\"\u001b[0m\u001b[1;33m)\u001b[0m\u001b[1;33m\u001b[0m\u001b[1;33m\u001b[0m\u001b[0m\n\u001b[0;32m     61\u001b[0m \u001b[1;33m\u001b[0m\u001b[0m\n\u001b[1;32m---> 62\u001b[1;33m         \u001b[0mtime\u001b[0m\u001b[1;33m.\u001b[0m\u001b[0msleep\u001b[0m\u001b[1;33m(\u001b[0m\u001b[1;36m30\u001b[0m\u001b[1;33m)\u001b[0m\u001b[1;33m\u001b[0m\u001b[1;33m\u001b[0m\u001b[0m\n\u001b[0m\u001b[0;32m     63\u001b[0m \u001b[1;33m\u001b[0m\u001b[0m\n\u001b[0;32m     64\u001b[0m \u001b[1;32mif\u001b[0m \u001b[0m__name__\u001b[0m \u001b[1;33m==\u001b[0m \u001b[1;34m\"__main__\"\u001b[0m\u001b[1;33m:\u001b[0m\u001b[1;33m\u001b[0m\u001b[1;33m\u001b[0m\u001b[0m\n",
      "\u001b[1;31mKeyboardInterrupt\u001b[0m: "
     ]
    }
   ],
   "source": [
    "import folium\n",
    "import requests\n",
    "import webbrowser\n",
    "import time\n",
    "import logging\n",
    "\n",
    "logging.basicConfig(filename='base_output.log', level=logging.INFO,\n",
    "                    format='%(asctime)s:%(levelname)s:%(message)s')\n",
    "\n",
    "# Function to get the weather data\n",
    "def get_weather_data(api_key, lat, lon):\n",
    "    url = f\"https://api.openweathermap.org/data/2.5/weather?lat={lat}&lon={lon}&appid={api_key}&units=imperial\"\n",
    "    response = requests.get(url)\n",
    "    data = response.json()\n",
    "    return data\n",
    "\n",
    "# Function to display the map\n",
    "def display_map(api_key):\n",
    "    # Create the map object\n",
    "    map = folium.Map(location=[39.8283, -98.5795], zoom_start=4)\n",
    "\n",
    "    # Get the list of cities from the file\n",
    "    with open('untitled.txt', 'r') as file:\n",
    "        cities = file.readlines()\n",
    "\n",
    "    # Loop through each city and add a marker to the map\n",
    "# Loop through each city and add a marker to the map\n",
    "    for i, city in enumerate(cities):\n",
    "        city = city.strip()  # Remove newline characters\n",
    "        url = f\"https://nominatim.openstreetmap.org/search?q={city}&format=json\"\n",
    "        response = requests.get(url)\n",
    "        data = response.json()\n",
    "        if data:\n",
    "            lat = data[0]['lat']\n",
    "            lon = data[0]['lon']\n",
    "            weather_data = get_weather_data(api_key, lat, lon)\n",
    "            temp = weather_data['main']['temp']\n",
    "            humidity = weather_data['main']['humidity']\n",
    "            wind_speed = weather_data['wind']['speed']\n",
    "            description = weather_data['weather'][0]['description']\n",
    "            color = f\"background-color: {'red' if i % 2 == 0 else 'blue'};\"  # Alternate background color for each city\n",
    "            popup = f\"<div style='{color}'>City: {city}<br>Temperature: {temp}°F<br>Humidity: {humidity}%<br>Wind Speed: {wind_speed} mph<br>Description: {description}</div>\"\n",
    "            folium.Marker(location=[lat, lon], popup=popup).add_to(map)\n",
    "\n",
    "\n",
    "        # Display the map\n",
    "            return map\n",
    "\n",
    "# Main function to run the program\n",
    "def main():\n",
    "    # Enter your OpenWeatherMap API key here\n",
    "    api_key = \"40c452e13554e6a9ec421b99eef31b8e\"\n",
    "\n",
    "    while True:\n",
    "        # Display the map\n",
    "        map = display_map(api_key)\n",
    "        map.save('weather_map.html')\n",
    "        webbrowser.open('weather_map.html',new=0)\n",
    "        logging.info('Map refreshed.')\n",
    "        print(\"Map saved as weather_map.html\")\n",
    "        \n",
    "        time.sleep(30)\n",
    "\n",
    "if __name__ == \"__main__\":\n",
    "    main()\n",
    "###works but outputs a new tab everytime "
   ]
  },
  {
   "cell_type": "code",
   "execution_count": null,
   "id": "82870ac9",
   "metadata": {},
   "outputs": [],
   "source": []
  }
 ],
 "metadata": {
  "kernelspec": {
   "display_name": "Python 3 (ipykernel)",
   "language": "python",
   "name": "python3"
  },
  "language_info": {
   "codemirror_mode": {
    "name": "ipython",
    "version": 3
   },
   "file_extension": ".py",
   "mimetype": "text/x-python",
   "name": "python",
   "nbconvert_exporter": "python",
   "pygments_lexer": "ipython3",
   "version": "3.9.13"
  }
 },
 "nbformat": 4,
 "nbformat_minor": 5
}
