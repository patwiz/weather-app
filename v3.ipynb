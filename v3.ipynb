{
 "cells": [
  {
   "cell_type": "code",
   "execution_count": null,
   "id": "dbebccb7",
   "metadata": {},
   "outputs": [
    {
     "name": "stdout",
     "output_type": "stream",
     "text": [
      "Map saved as weather_map.html\n"
     ]
    }
   ],
   "source": [
    "import folium\n",
    "import requests\n",
    "import webbrowser\n",
    "import time\n",
    "import logging\n",
    "import pyautogui\n",
    "\n",
    "logging.basicConfig(filename='output.log', level=logging.INFO,\n",
    "                    format='%(asctime)s:%(levelname)s:%(message)s')\n",
    "\n",
    "# Function to get the weather data\n",
    "def get_weather_data(api_key, lat, lon):\n",
    "    url = f\"https://api.openweathermap.org/data/2.5/weather?lat={lat}&lon={lon}&appid={api_key}&units=imperial\"\n",
    "    response = requests.get(url)\n",
    "    data = response.json()\n",
    "    return data\n",
    "\n",
    "# Function to display the map\n",
    "def display_map(api_key, zoom):\n",
    "    # Create the map object\n",
    "    map = folium.Map(location=[39.8283, -98.5795], zoom_start=zoom)\n",
    "\n",
    "    # Get the list of cities from the file\n",
    "    with open('untitled.txt', 'r') as file:\n",
    "        cities = file.readlines()\n",
    "\n",
    "    # Loop through each city and add a marker to the map\n",
    "    for city in cities:\n",
    "        city = city.strip()  # Remove newline characters\n",
    "        url = f\"https://nominatim.openstreetmap.org/search?q={city}&format=json\"\n",
    "        response = requests.get(url)\n",
    "        data = response.json()\n",
    "        if data:\n",
    "            lat = data[0]['lat']\n",
    "            lon = data[0]['lon']\n",
    "            weather_data = get_weather_data(api_key, lat, lon)\n",
    "            temp = weather_data['main']['temp']\n",
    "            humidity = weather_data['main']['humidity']\n",
    "            wind_speed = weather_data['wind']['speed']\n",
    "            description = weather_data['weather'][0]['description']\n",
    "            popup = f\"Temperature: {temp}°F<br>Humidity: {humidity}%<br>Wind Speed: {wind_speed} mph<br>Description: {description}\"\n",
    "            folium.Marker(location=[lat, lon], popup=popup).add_to(map)\n",
    "\n",
    "    # Display the map\n",
    "    return map\n",
    "\n",
    "# Main function to run the program\n",
    "def main():\n",
    "    # Enter your OpenWeatherMap API key here\n",
    "    api_key = \"40c452e13554e6a9ec421b99eef31b8e\"\n",
    "    url = 'weather_map.html'\n",
    "    zoom = 4\n",
    "    first_iteration = True\n",
    "\n",
    "    while True:\n",
    "        # Display the map\n",
    "        map = display_map(api_key,zoom)\n",
    "        map.save(url)\n",
    "        logging.info('Map refreshed.')\n",
    "        print(\"Map saved as weather_map.html\")\n",
    "\n",
    "        # Reload the page if not the first iteration\n",
    "        if not first_iteration:\n",
    "            windows = pyautogui.getWindowsWithTitle('weather_map.html')\n",
    "            if windows:\n",
    "                window = windows[0]\n",
    "                window.activate()\n",
    "                pyautogui.hotkey('F5')\n",
    "        else:\n",
    "            webbrowser.open(url, new=2)\n",
    "            first_iteration = False\n",
    "\n",
    "        time.sleep(30)\n",
    "\n",
    "if __name__ == \"__main__\":\n",
    "    main()\n",
    "\n",
    "    #refreshes the page we want but messes up zoom level after refresh"
   ]
  },
  {
   "cell_type": "code",
   "execution_count": null,
   "id": "bb24d86c",
   "metadata": {},
   "outputs": [],
   "source": []
  }
 ],
 "metadata": {
  "kernelspec": {
   "display_name": "Python 3 (ipykernel)",
   "language": "python",
   "name": "python3"
  },
  "language_info": {
   "codemirror_mode": {
    "name": "ipython",
    "version": 3
   },
   "file_extension": ".py",
   "mimetype": "text/x-python",
   "name": "python",
   "nbconvert_exporter": "python",
   "pygments_lexer": "ipython3",
   "version": "3.9.13"
  }
 },
 "nbformat": 4,
 "nbformat_minor": 5
}
